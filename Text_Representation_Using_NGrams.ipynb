{
 "cells": [
  {
   "cell_type": "code",
   "execution_count": 1,
   "id": "4fa3e978-ccc4-4fa0-804a-b05f1cd1dcff",
   "metadata": {
    "tags": []
   },
   "outputs": [
    {
     "data": {
      "text/plain": [
       "{'chem': 1, 'the': 6, 'charming': 0, 'is': 3, 'looking': 5, 'for': 2, 'job': 4}"
      ]
     },
     "execution_count": 1,
     "metadata": {},
     "output_type": "execute_result"
    }
   ],
   "source": [
    "from sklearn.feature_extraction.text import CountVectorizer\n",
    "\n",
    "v = CountVectorizer() # Convert a collection of text documents to a matrix of token counts.\n",
    "\n",
    "v.fit([\"Chem the charming is looking for a job\"])\n",
    "# the fit method \"learn(s) a vocabulary dictionary of all tokens in the raw documents\n",
    "#  it creates a dictionary of tokens (by default the tokens are words\n",
    "v.vocabulary_"
   ]
  },
  {
   "cell_type": "code",
   "execution_count": 2,
   "id": "c53c14d2-5e8f-4914-9902-4d86fbfee46a",
   "metadata": {
    "tags": []
   },
   "outputs": [
    {
     "data": {
      "text/plain": [
       "{'chem': 2,\n",
       " 'the': 11,\n",
       " 'charming': 0,\n",
       " 'is': 6,\n",
       " 'looking': 9,\n",
       " 'for': 4,\n",
       " 'job': 8,\n",
       " 'chem the': 3,\n",
       " 'the charming': 12,\n",
       " 'charming is': 1,\n",
       " 'is looking': 7,\n",
       " 'looking for': 10,\n",
       " 'for job': 5}"
      ]
     },
     "execution_count": 2,
     "metadata": {},
     "output_type": "execute_result"
    }
   ],
   "source": [
    "V = CountVectorizer(ngram_range=(1,2)) # i.e. ngram_range creates a bag of words of 1 & 2 as given\n",
    "V.fit([\"Chem the charming is looking for a job\"])\n",
    "V.vocabulary_"
   ]
  },
  {
   "cell_type": "code",
   "execution_count": 3,
   "id": "ac473167-e6bd-4375-b5c3-a19a219226f4",
   "metadata": {
    "tags": []
   },
   "outputs": [
    {
     "data": {
      "text/plain": [
       "{'chem': 3,\n",
       " 'the': 15,\n",
       " 'charming': 0,\n",
       " 'is': 8,\n",
       " 'looking': 12,\n",
       " 'for': 6,\n",
       " 'job': 11,\n",
       " 'chem the': 4,\n",
       " 'the charming': 16,\n",
       " 'charming is': 1,\n",
       " 'is looking': 9,\n",
       " 'looking for': 13,\n",
       " 'for job': 7,\n",
       " 'chem the charming': 5,\n",
       " 'the charming is': 17,\n",
       " 'charming is looking': 2,\n",
       " 'is looking for': 10,\n",
       " 'looking for job': 14}"
      ]
     },
     "execution_count": 3,
     "metadata": {},
     "output_type": "execute_result"
    }
   ],
   "source": [
    "# Bag of words in the range of 1 and 3 tokens\n",
    "V = CountVectorizer(ngram_range=(1,3))\n",
    "V.fit([\"Chem the charming is looking for a job\"])\n",
    "V.vocabulary_"
   ]
  },
  {
   "cell_type": "code",
   "execution_count": 4,
   "id": "25aa6975-e6cb-40ed-a654-6f203e983c5e",
   "metadata": {
    "tags": []
   },
   "outputs": [],
   "source": [
    "# Corpus of words\n",
    "corpus = [\n",
    "    \"Chem is charming guy\",\n",
    "    \"Chem likes to eat stuff from bakery\",\n",
    "    \"Chem also likes wine\"\n",
    "]"
   ]
  },
  {
   "cell_type": "code",
   "execution_count": 5,
   "id": "dcfffa82-3d95-4544-9235-2e481c76d30e",
   "metadata": {
    "tags": []
   },
   "outputs": [],
   "source": [
    "import spacy\n",
    "\n",
    "nlp = spacy.load(\"en_core_web_sm\")"
   ]
  },
  {
   "cell_type": "code",
   "execution_count": 6,
   "id": "d62b6489-83ef-49fe-a2bc-bc9e4cf4eba6",
   "metadata": {
    "tags": []
   },
   "outputs": [],
   "source": [
    "# Lemmatize and remove the stopwords\n",
    "def Preprocess(text):\n",
    "    doc = nlp(text)\n",
    "    filtered_tokens = []\n",
    "    for token in doc:\n",
    "        if token.is_punct or token.is_stop:\n",
    "            continue\n",
    "        filtered_tokens.append(token.lemma_)\n",
    "    \n",
    "    return \" \".join(filtered_tokens)"
   ]
  },
  {
   "cell_type": "code",
   "execution_count": 7,
   "id": "1e828537-eb25-4d92-be5a-ae7267677deb",
   "metadata": {
    "tags": []
   },
   "outputs": [
    {
     "data": {
      "text/plain": [
       "'Chem charming guy'"
      ]
     },
     "execution_count": 7,
     "metadata": {},
     "output_type": "execute_result"
    }
   ],
   "source": [
    "Preprocess(\"Chem is a charming guy\")"
   ]
  },
  {
   "cell_type": "code",
   "execution_count": 8,
   "id": "aba68b09-a38b-4d9a-893f-7cb02174c34c",
   "metadata": {
    "tags": []
   },
   "outputs": [
    {
     "data": {
      "text/plain": [
       "['Chem charming guy', 'chem like eat stuff bakery', 'Chem like wine']"
      ]
     },
     "execution_count": 8,
     "metadata": {},
     "output_type": "execute_result"
    }
   ],
   "source": [
    "corpus_processed = [Preprocess(token) for token in corpus]\n",
    "corpus_processed"
   ]
  },
  {
   "cell_type": "code",
   "execution_count": 9,
   "id": "99a919db-49d0-4590-8626-c30899b35039",
   "metadata": {
    "tags": []
   },
   "outputs": [
    {
     "data": {
      "text/plain": [
       "{'chem': 3,\n",
       " 'charming': 1,\n",
       " 'guy': 12,\n",
       " 'chem charming': 4,\n",
       " 'charming guy': 2,\n",
       " 'chem charming guy': 5,\n",
       " 'like': 13,\n",
       " 'eat': 9,\n",
       " 'stuff': 17,\n",
       " 'bakery': 0,\n",
       " 'chem like': 6,\n",
       " 'like eat': 14,\n",
       " 'eat stuff': 10,\n",
       " 'stuff bakery': 18,\n",
       " 'chem like eat': 7,\n",
       " 'like eat stuff': 15,\n",
       " 'eat stuff bakery': 11,\n",
       " 'wine': 19,\n",
       " 'like wine': 16,\n",
       " 'chem like wine': 8}"
      ]
     },
     "execution_count": 9,
     "metadata": {},
     "output_type": "execute_result"
    }
   ],
   "source": [
    "V.fit(corpus_processed)\n",
    "V.vocabulary_"
   ]
  },
  {
   "cell_type": "code",
   "execution_count": 10,
   "id": "d40131c9-6ad1-4490-8d3e-04b1dd2a943f",
   "metadata": {
    "tags": []
   },
   "outputs": [
    {
     "data": {
      "text/plain": [
       "array([[0, 1, 1, 1, 0, 0, 0, 0, 0, 0, 0, 0, 1, 0, 0, 0, 0, 0, 0, 0]],\n",
       "      dtype=int64)"
      ]
     },
     "execution_count": 10,
     "metadata": {},
     "output_type": "execute_result"
    }
   ],
   "source": [
    "# Generate a bag of n gram vector for few sample documents\n",
    "V.transform([\"Chem is a charming guy\"]).toarray()"
   ]
  },
  {
   "cell_type": "code",
   "execution_count": 12,
   "id": "8c3320be-4592-4265-af34-a19e54c3993d",
   "metadata": {
    "tags": []
   },
   "outputs": [
    {
     "name": "stdout",
     "output_type": "stream",
     "text": [
      "(209527, 6)\n"
     ]
    },
    {
     "data": {
      "text/html": [
       "<div>\n",
       "<style scoped>\n",
       "    .dataframe tbody tr th:only-of-type {\n",
       "        vertical-align: middle;\n",
       "    }\n",
       "\n",
       "    .dataframe tbody tr th {\n",
       "        vertical-align: top;\n",
       "    }\n",
       "\n",
       "    .dataframe thead th {\n",
       "        text-align: right;\n",
       "    }\n",
       "</style>\n",
       "<table border=\"1\" class=\"dataframe\">\n",
       "  <thead>\n",
       "    <tr style=\"text-align: right;\">\n",
       "      <th></th>\n",
       "      <th>link</th>\n",
       "      <th>headline</th>\n",
       "      <th>category</th>\n",
       "      <th>short_description</th>\n",
       "      <th>authors</th>\n",
       "      <th>date</th>\n",
       "    </tr>\n",
       "  </thead>\n",
       "  <tbody>\n",
       "    <tr>\n",
       "      <th>0</th>\n",
       "      <td>https://www.huffpost.com/entry/covid-boosters-...</td>\n",
       "      <td>Over 4 Million Americans Roll Up Sleeves For O...</td>\n",
       "      <td>U.S. NEWS</td>\n",
       "      <td>Health experts said it is too early to predict...</td>\n",
       "      <td>Carla K. Johnson, AP</td>\n",
       "      <td>2022-09-23</td>\n",
       "    </tr>\n",
       "    <tr>\n",
       "      <th>1</th>\n",
       "      <td>https://www.huffpost.com/entry/american-airlin...</td>\n",
       "      <td>American Airlines Flyer Charged, Banned For Li...</td>\n",
       "      <td>U.S. NEWS</td>\n",
       "      <td>He was subdued by passengers and crew when he ...</td>\n",
       "      <td>Mary Papenfuss</td>\n",
       "      <td>2022-09-23</td>\n",
       "    </tr>\n",
       "    <tr>\n",
       "      <th>2</th>\n",
       "      <td>https://www.huffpost.com/entry/funniest-tweets...</td>\n",
       "      <td>23 Of The Funniest Tweets About Cats And Dogs ...</td>\n",
       "      <td>COMEDY</td>\n",
       "      <td>\"Until you have a dog you don't understand wha...</td>\n",
       "      <td>Elyse Wanshel</td>\n",
       "      <td>2022-09-23</td>\n",
       "    </tr>\n",
       "    <tr>\n",
       "      <th>3</th>\n",
       "      <td>https://www.huffpost.com/entry/funniest-parent...</td>\n",
       "      <td>The Funniest Tweets From Parents This Week (Se...</td>\n",
       "      <td>PARENTING</td>\n",
       "      <td>\"Accidentally put grown-up toothpaste on my to...</td>\n",
       "      <td>Caroline Bologna</td>\n",
       "      <td>2022-09-23</td>\n",
       "    </tr>\n",
       "    <tr>\n",
       "      <th>4</th>\n",
       "      <td>https://www.huffpost.com/entry/amy-cooper-lose...</td>\n",
       "      <td>Woman Who Called Cops On Black Bird-Watcher Lo...</td>\n",
       "      <td>U.S. NEWS</td>\n",
       "      <td>Amy Cooper accused investment firm Franklin Te...</td>\n",
       "      <td>Nina Golgowski</td>\n",
       "      <td>2022-09-22</td>\n",
       "    </tr>\n",
       "  </tbody>\n",
       "</table>\n",
       "</div>"
      ],
      "text/plain": [
       "                                                link  \\\n",
       "0  https://www.huffpost.com/entry/covid-boosters-...   \n",
       "1  https://www.huffpost.com/entry/american-airlin...   \n",
       "2  https://www.huffpost.com/entry/funniest-tweets...   \n",
       "3  https://www.huffpost.com/entry/funniest-parent...   \n",
       "4  https://www.huffpost.com/entry/amy-cooper-lose...   \n",
       "\n",
       "                                            headline   category  \\\n",
       "0  Over 4 Million Americans Roll Up Sleeves For O...  U.S. NEWS   \n",
       "1  American Airlines Flyer Charged, Banned For Li...  U.S. NEWS   \n",
       "2  23 Of The Funniest Tweets About Cats And Dogs ...     COMEDY   \n",
       "3  The Funniest Tweets From Parents This Week (Se...  PARENTING   \n",
       "4  Woman Who Called Cops On Black Bird-Watcher Lo...  U.S. NEWS   \n",
       "\n",
       "                                   short_description               authors  \\\n",
       "0  Health experts said it is too early to predict...  Carla K. Johnson, AP   \n",
       "1  He was subdued by passengers and crew when he ...        Mary Papenfuss   \n",
       "2  \"Until you have a dog you don't understand wha...         Elyse Wanshel   \n",
       "3  \"Accidentally put grown-up toothpaste on my to...      Caroline Bologna   \n",
       "4  Amy Cooper accused investment firm Franklin Te...        Nina Golgowski   \n",
       "\n",
       "        date  \n",
       "0 2022-09-23  \n",
       "1 2022-09-23  \n",
       "2 2022-09-23  \n",
       "3 2022-09-23  \n",
       "4 2022-09-22  "
      ]
     },
     "execution_count": 12,
     "metadata": {},
     "output_type": "execute_result"
    }
   ],
   "source": [
    "import pandas as pd\n",
    "\n",
    "df = pd.read_json('News_Dataset.json',lines=True)\n",
    "print(df.shape)\n",
    "\n",
    "df.head()"
   ]
  },
  {
   "cell_type": "code",
   "execution_count": 13,
   "id": "08c2af76-440c-43fc-a091-1b020de6d7b2",
   "metadata": {
    "tags": []
   },
   "outputs": [
    {
     "data": {
      "text/plain": [
       "POLITICS          35602\n",
       "WELLNESS          17945\n",
       "ENTERTAINMENT     17362\n",
       "TRAVEL             9900\n",
       "STYLE & BEAUTY     9814\n",
       "PARENTING          8791\n",
       "HEALTHY LIVING     6694\n",
       "QUEER VOICES       6347\n",
       "FOOD & DRINK       6340\n",
       "BUSINESS           5992\n",
       "COMEDY             5400\n",
       "SPORTS             5077\n",
       "BLACK VOICES       4583\n",
       "HOME & LIVING      4320\n",
       "PARENTS            3955\n",
       "THE WORLDPOST      3664\n",
       "WEDDINGS           3653\n",
       "WOMEN              3572\n",
       "CRIME              3562\n",
       "IMPACT             3484\n",
       "DIVORCE            3426\n",
       "WORLD NEWS         3299\n",
       "MEDIA              2944\n",
       "WEIRD NEWS         2777\n",
       "GREEN              2622\n",
       "WORLDPOST          2579\n",
       "RELIGION           2577\n",
       "STYLE              2254\n",
       "SCIENCE            2206\n",
       "TECH               2104\n",
       "TASTE              2096\n",
       "MONEY              1756\n",
       "ARTS               1509\n",
       "ENVIRONMENT        1444\n",
       "FIFTY              1401\n",
       "GOOD NEWS          1398\n",
       "U.S. NEWS          1377\n",
       "ARTS & CULTURE     1339\n",
       "COLLEGE            1144\n",
       "LATINO VOICES      1130\n",
       "CULTURE & ARTS     1074\n",
       "EDUCATION          1014\n",
       "Name: category, dtype: int64"
      ]
     },
     "execution_count": 13,
     "metadata": {},
     "output_type": "execute_result"
    }
   ],
   "source": [
    "df.category.value_counts()"
   ]
  },
  {
   "cell_type": "code",
   "execution_count": 14,
   "id": "64d780b0-afa0-4bfa-9564-729f2cd8ea48",
   "metadata": {
    "tags": []
   },
   "outputs": [],
   "source": [
    "# Handling class imbalance\n",
    "\n",
    "min_samples = 8791\n",
    "\n",
    "df_Parenting = df[df.category=='PARENTING'].sample(min_samples,random_state=2022)\n",
    "df_Travel = df[df.category=='TRAVEL'].sample(min_samples,random_state=2022)\n",
    "df_Entertainment = df[df.category=='ENTERTAINMENT'].sample(min_samples,random_state=2022)\n",
    "df_Wellness = df[df.category=='WELLNESS'].sample(min_samples,random_state=2022)\n",
    "df_Politics = df[df.category=='POLITICS'].sample(min_samples,random_state=2022)"
   ]
  },
  {
   "cell_type": "code",
   "execution_count": 15,
   "id": "03fa8cc4-4826-4a4b-ab32-d9a33d22a270",
   "metadata": {
    "tags": []
   },
   "outputs": [
    {
     "data": {
      "text/plain": [
       "PARENTING        8791\n",
       "TRAVEL           8791\n",
       "ENTERTAINMENT    8791\n",
       "WELLNESS         8791\n",
       "POLITICS         8791\n",
       "Name: category, dtype: int64"
      ]
     },
     "execution_count": 15,
     "metadata": {},
     "output_type": "execute_result"
    }
   ],
   "source": [
    "df_balanced = pd.concat([df_Parenting,df_Travel,df_Entertainment,df_Wellness,df_Politics],axis=0)\n",
    "df_balanced.category.value_counts()"
   ]
  },
  {
   "cell_type": "code",
   "execution_count": 16,
   "id": "1d56ca27-c0ce-46e0-b1c2-27673f04ea6d",
   "metadata": {
    "tags": []
   },
   "outputs": [
    {
     "data": {
      "text/html": [
       "<div>\n",
       "<style scoped>\n",
       "    .dataframe tbody tr th:only-of-type {\n",
       "        vertical-align: middle;\n",
       "    }\n",
       "\n",
       "    .dataframe tbody tr th {\n",
       "        vertical-align: top;\n",
       "    }\n",
       "\n",
       "    .dataframe thead th {\n",
       "        text-align: right;\n",
       "    }\n",
       "</style>\n",
       "<table border=\"1\" class=\"dataframe\">\n",
       "  <thead>\n",
       "    <tr style=\"text-align: right;\">\n",
       "      <th></th>\n",
       "      <th>link</th>\n",
       "      <th>headline</th>\n",
       "      <th>category</th>\n",
       "      <th>short_description</th>\n",
       "      <th>authors</th>\n",
       "      <th>date</th>\n",
       "      <th>Category_num</th>\n",
       "    </tr>\n",
       "  </thead>\n",
       "  <tbody>\n",
       "    <tr>\n",
       "      <th>154193</th>\n",
       "      <td>https://www.huffingtonpost.comhttp://ideas.tim...</td>\n",
       "      <td>Bringing Up a 9/11 Baby</td>\n",
       "      <td>PARENTING</td>\n",
       "      <td>One year ago today, at 11:45 pm, my wife gave ...</td>\n",
       "      <td></td>\n",
       "      <td>2013-09-11</td>\n",
       "      <td>0</td>\n",
       "    </tr>\n",
       "    <tr>\n",
       "      <th>201170</th>\n",
       "      <td>https://www.huffingtonpost.com/entry/ethan-pia...</td>\n",
       "      <td>Ethan Walmark, 6-Year-Old With Autism, Plays '...</td>\n",
       "      <td>PARENTING</td>\n",
       "      <td>Ethan Walmark, 6, was diagnosed with autism fo...</td>\n",
       "      <td>Jessica Samakow</td>\n",
       "      <td>2012-04-27</td>\n",
       "      <td>0</td>\n",
       "    </tr>\n",
       "    <tr>\n",
       "      <th>140458</th>\n",
       "      <td>https://www.huffingtonpost.com/entry/how-to-lo...</td>\n",
       "      <td>How to Lose an Argument With a 5-Year-Old</td>\n",
       "      <td>PARENTING</td>\n",
       "      <td>Listen to me closely, mister. From this point ...</td>\n",
       "      <td>Wendi Aarons, Contributor\\nHumor writer, blogg...</td>\n",
       "      <td>2014-02-03</td>\n",
       "      <td>0</td>\n",
       "    </tr>\n",
       "  </tbody>\n",
       "</table>\n",
       "</div>"
      ],
      "text/plain": [
       "                                                     link  \\\n",
       "154193  https://www.huffingtonpost.comhttp://ideas.tim...   \n",
       "201170  https://www.huffingtonpost.com/entry/ethan-pia...   \n",
       "140458  https://www.huffingtonpost.com/entry/how-to-lo...   \n",
       "\n",
       "                                                 headline   category  \\\n",
       "154193                            Bringing Up a 9/11 Baby  PARENTING   \n",
       "201170  Ethan Walmark, 6-Year-Old With Autism, Plays '...  PARENTING   \n",
       "140458          How to Lose an Argument With a 5-Year-Old  PARENTING   \n",
       "\n",
       "                                        short_description  \\\n",
       "154193  One year ago today, at 11:45 pm, my wife gave ...   \n",
       "201170  Ethan Walmark, 6, was diagnosed with autism fo...   \n",
       "140458  Listen to me closely, mister. From this point ...   \n",
       "\n",
       "                                                  authors       date  \\\n",
       "154193                                                    2013-09-11   \n",
       "201170                                    Jessica Samakow 2012-04-27   \n",
       "140458  Wendi Aarons, Contributor\\nHumor writer, blogg... 2014-02-03   \n",
       "\n",
       "        Category_num  \n",
       "154193             0  \n",
       "201170             0  \n",
       "140458             0  "
      ]
     },
     "execution_count": 16,
     "metadata": {},
     "output_type": "execute_result"
    }
   ],
   "source": [
    "df_balanced['Category_num'] = df_balanced['category'].map({\n",
    "    'PARENTING':0,\n",
    "    'TRAVEL':1,\n",
    "    'ENTERTAINMENT':2,\n",
    "    'WELLNESS':3,\n",
    "    'POLITICS':4,})\n",
    "df_balanced.head(3)"
   ]
  },
  {
   "cell_type": "code",
   "execution_count": 17,
   "id": "d09f6a63-9cde-4af3-90c6-1e0b46dcf725",
   "metadata": {
    "tags": []
   },
   "outputs": [],
   "source": [
    "from sklearn.model_selection import train_test_split\n",
    "\n",
    "X_train, X_test, y_train, y_test = train_test_split(\n",
    "    df_balanced.short_description, \n",
    "    df_balanced.Category_num, \n",
    "    test_size=0.2, # 20% samples will go to test dataset\n",
    "    random_state=2022,\n",
    "    stratify=df_balanced.Category_num\n",
    ")"
   ]
  },
  {
   "cell_type": "code",
   "execution_count": 18,
   "id": "62734993-0046-48b6-94d0-911b020af4b2",
   "metadata": {
    "tags": []
   },
   "outputs": [
    {
     "name": "stdout",
     "output_type": "stream",
     "text": [
      "(35164,)\n"
     ]
    },
    {
     "data": {
      "text/plain": [
       "128846                                                     \n",
       "148225    I make my big declarations of gratitude at Tha...\n",
       "198654    Lightly lined, seamless bandeau, structured ba...\n",
       "43637     After many delays, the Senate can now proceed ...\n",
       "162076    This past Memorial Day weekend, we became “tha...\n",
       "Name: short_description, dtype: object"
      ]
     },
     "execution_count": 18,
     "metadata": {},
     "output_type": "execute_result"
    }
   ],
   "source": [
    "print(X_train.shape)\n",
    "X_train.head()"
   ]
  },
  {
   "cell_type": "code",
   "execution_count": 19,
   "id": "fdda888b-786c-4825-bc39-d5e2d7c6d994",
   "metadata": {
    "tags": []
   },
   "outputs": [
    {
     "data": {
      "text/plain": [
       "2    7033\n",
       "0    7033\n",
       "3    7033\n",
       "1    7033\n",
       "4    7032\n",
       "Name: Category_num, dtype: int64"
      ]
     },
     "execution_count": 19,
     "metadata": {},
     "output_type": "execute_result"
    }
   ],
   "source": [
    "y_train.value_counts()"
   ]
  },
  {
   "cell_type": "code",
   "execution_count": 20,
   "id": "c7f01ebc-dd37-4c0d-8d07-1da0286f8c90",
   "metadata": {
    "tags": []
   },
   "outputs": [
    {
     "name": "stdout",
     "output_type": "stream",
     "text": [
      "              precision    recall  f1-score   support\n",
      "\n",
      "           0       0.50      0.78      0.61      1758\n",
      "           1       0.80      0.74      0.77      1758\n",
      "           2       0.80      0.45      0.58      1758\n",
      "           3       0.68      0.79      0.73      1758\n",
      "           4       0.84      0.67      0.74      1759\n",
      "\n",
      "    accuracy                           0.69      8791\n",
      "   macro avg       0.72      0.69      0.69      8791\n",
      "weighted avg       0.72      0.69      0.69      8791\n",
      "\n"
     ]
    }
   ],
   "source": [
    "from sklearn.naive_bayes import MultinomialNB\n",
    "from sklearn.pipeline import Pipeline\n",
    "from sklearn.metrics import classification_report\n",
    "\n",
    "#1. create a pipeline object\n",
    "clf = Pipeline([\n",
    "     ('vectorizer_bow', CountVectorizer(ngram_range = (1, 1))),        #using the ngram_range parameter \n",
    "     ('Multi NB', MultinomialNB())         \n",
    "])\n",
    "\n",
    "#2. fit with X_train and y_train\n",
    "clf.fit(X_train, y_train)\n",
    "\n",
    "\n",
    "#3. get the predictions for X_test and store it in y_pred\n",
    "y_pred = clf.predict(X_test)\n",
    "\n",
    "\n",
    "#4. print the classfication report\n",
    "print(classification_report(y_test, y_pred))"
   ]
  },
  {
   "cell_type": "code",
   "execution_count": 21,
   "id": "6d8083b0-a5a5-418e-896d-46732432bfb4",
   "metadata": {
    "tags": []
   },
   "outputs": [
    {
     "data": {
      "text/plain": [
       "25922     Hope you had a nice long weekend, this is the ...\n",
       "103888    Flight attendants take on a crucial role after...\n",
       "194877    Tom Cruise's personal life may be in shambles,...\n",
       "137804    With all the DOs and DON’Ts of dieting, losing...\n",
       "196331    We tend to think mistakes get in the way of pr...\n",
       "Name: short_description, dtype: object"
      ]
     },
     "execution_count": 21,
     "metadata": {},
     "output_type": "execute_result"
    }
   ],
   "source": [
    "X_test[:5]"
   ]
  },
  {
   "cell_type": "code",
   "execution_count": 22,
   "id": "721abe63-06ea-4e06-867c-b5ce01adc1ec",
   "metadata": {
    "tags": []
   },
   "outputs": [
    {
     "data": {
      "text/plain": [
       "array([4, 1, 4, 3, 3], dtype=int64)"
      ]
     },
     "execution_count": 22,
     "metadata": {},
     "output_type": "execute_result"
    }
   ],
   "source": [
    "y_pred[:5]"
   ]
  },
  {
   "cell_type": "code",
   "execution_count": 23,
   "id": "192b677b-f49e-4d0c-b6f0-af6153127ae9",
   "metadata": {
    "tags": []
   },
   "outputs": [
    {
     "data": {
      "text/plain": [
       "25922     4\n",
       "103888    1\n",
       "194877    2\n",
       "137804    3\n",
       "196331    3\n",
       "Name: Category_num, dtype: int64"
      ]
     },
     "execution_count": 23,
     "metadata": {},
     "output_type": "execute_result"
    }
   ],
   "source": [
    "y_test[:5]"
   ]
  },
  {
   "cell_type": "code",
   "execution_count": 24,
   "id": "2d23c001-6d18-4384-b67f-e6dcad95120a",
   "metadata": {
    "tags": []
   },
   "outputs": [
    {
     "name": "stdout",
     "output_type": "stream",
     "text": [
      "              precision    recall  f1-score   support\n",
      "\n",
      "           0       0.47      0.81      0.60      1758\n",
      "           1       0.76      0.72      0.74      1758\n",
      "           2       0.90      0.31      0.47      1758\n",
      "           3       0.63      0.83      0.72      1758\n",
      "           4       0.87      0.59      0.70      1759\n",
      "\n",
      "    accuracy                           0.65      8791\n",
      "   macro avg       0.73      0.65      0.64      8791\n",
      "weighted avg       0.73      0.65      0.64      8791\n",
      "\n"
     ]
    }
   ],
   "source": [
    "#1. create a pipeline object\n",
    "clf = Pipeline([\n",
    "    ('vectorizer_1_2_gram', CountVectorizer(ngram_range = (1, 2))),        #using the ngram_range parameter \n",
    "     ('Multi NB', MultinomialNB())         \n",
    "])\n",
    "\n",
    "#2. fit with X_train and y_train\n",
    "clf.fit(X_train, y_train)\n",
    "\n",
    "\n",
    "#3. get the predictions for X_test and store it in y_pred\n",
    "y_pred = clf.predict(X_test)\n",
    "\n",
    "\n",
    "#4. print the classfication report\n",
    "print(classification_report(y_test, y_pred))"
   ]
  },
  {
   "cell_type": "code",
   "execution_count": 25,
   "id": "82989d59-7412-4b78-9644-eaa3388d7312",
   "metadata": {
    "tags": []
   },
   "outputs": [
    {
     "name": "stdout",
     "output_type": "stream",
     "text": [
      "              precision    recall  f1-score   support\n",
      "\n",
      "           0       0.46      0.80      0.58      1758\n",
      "           1       0.74      0.71      0.72      1758\n",
      "           2       0.91      0.27      0.41      1758\n",
      "           3       0.60      0.82      0.69      1758\n",
      "           4       0.88      0.56      0.68      1759\n",
      "\n",
      "    accuracy                           0.63      8791\n",
      "   macro avg       0.72      0.63      0.62      8791\n",
      "weighted avg       0.72      0.63      0.62      8791\n",
      "\n"
     ]
    }
   ],
   "source": [
    "#1. create a pipeline object\n",
    "clf = Pipeline([\n",
    "    ('vectorizer_1_3_grams', CountVectorizer(ngram_range = (1, 3))),        #using the ngram_range parameter \n",
    "     ('Multi NB', MultinomialNB())         \n",
    "])\n",
    "\n",
    "#2. fit with X_train and y_train\n",
    "clf.fit(X_train, y_train)\n",
    "\n",
    "\n",
    "#3. get the predictions for X_test and store it in y_pred\n",
    "y_pred = clf.predict(X_test)\n",
    "\n",
    "\n",
    "#4. print the classfication report\n",
    "print(classification_report(y_test, y_pred))"
   ]
  },
  {
   "cell_type": "code",
   "execution_count": 26,
   "id": "a5b55e1f-aebd-4526-997f-cfabf2ee2f54",
   "metadata": {
    "tags": []
   },
   "outputs": [
    {
     "data": {
      "text/html": [
       "<div>\n",
       "<style scoped>\n",
       "    .dataframe tbody tr th:only-of-type {\n",
       "        vertical-align: middle;\n",
       "    }\n",
       "\n",
       "    .dataframe tbody tr th {\n",
       "        vertical-align: top;\n",
       "    }\n",
       "\n",
       "    .dataframe thead th {\n",
       "        text-align: right;\n",
       "    }\n",
       "</style>\n",
       "<table border=\"1\" class=\"dataframe\">\n",
       "  <thead>\n",
       "    <tr style=\"text-align: right;\">\n",
       "      <th></th>\n",
       "      <th>link</th>\n",
       "      <th>headline</th>\n",
       "      <th>category</th>\n",
       "      <th>short_description</th>\n",
       "      <th>authors</th>\n",
       "      <th>date</th>\n",
       "      <th>Category_num</th>\n",
       "      <th>preprocessed_txt</th>\n",
       "    </tr>\n",
       "  </thead>\n",
       "  <tbody>\n",
       "    <tr>\n",
       "      <th>154193</th>\n",
       "      <td>https://www.huffingtonpost.comhttp://ideas.tim...</td>\n",
       "      <td>Bringing Up a 9/11 Baby</td>\n",
       "      <td>PARENTING</td>\n",
       "      <td>One year ago today, at 11:45 pm, my wife gave ...</td>\n",
       "      <td></td>\n",
       "      <td>2013-09-11</td>\n",
       "      <td>0</td>\n",
       "      <td>year ago today 11:45 pm wife give birth son Ba...</td>\n",
       "    </tr>\n",
       "    <tr>\n",
       "      <th>201170</th>\n",
       "      <td>https://www.huffingtonpost.com/entry/ethan-pia...</td>\n",
       "      <td>Ethan Walmark, 6-Year-Old With Autism, Plays '...</td>\n",
       "      <td>PARENTING</td>\n",
       "      <td>Ethan Walmark, 6, was diagnosed with autism fo...</td>\n",
       "      <td>Jessica Samakow</td>\n",
       "      <td>2012-04-27</td>\n",
       "      <td>0</td>\n",
       "      <td>Ethan Walmark 6 diagnose autism year ago feel ...</td>\n",
       "    </tr>\n",
       "    <tr>\n",
       "      <th>140458</th>\n",
       "      <td>https://www.huffingtonpost.com/entry/how-to-lo...</td>\n",
       "      <td>How to Lose an Argument With a 5-Year-Old</td>\n",
       "      <td>PARENTING</td>\n",
       "      <td>Listen to me closely, mister. From this point ...</td>\n",
       "      <td>Wendi Aarons, Contributor\\nHumor writer, blogg...</td>\n",
       "      <td>2014-02-03</td>\n",
       "      <td>0</td>\n",
       "      <td>listen closely mister point long argue want ac...</td>\n",
       "    </tr>\n",
       "  </tbody>\n",
       "</table>\n",
       "</div>"
      ],
      "text/plain": [
       "                                                     link  \\\n",
       "154193  https://www.huffingtonpost.comhttp://ideas.tim...   \n",
       "201170  https://www.huffingtonpost.com/entry/ethan-pia...   \n",
       "140458  https://www.huffingtonpost.com/entry/how-to-lo...   \n",
       "\n",
       "                                                 headline   category  \\\n",
       "154193                            Bringing Up a 9/11 Baby  PARENTING   \n",
       "201170  Ethan Walmark, 6-Year-Old With Autism, Plays '...  PARENTING   \n",
       "140458          How to Lose an Argument With a 5-Year-Old  PARENTING   \n",
       "\n",
       "                                        short_description  \\\n",
       "154193  One year ago today, at 11:45 pm, my wife gave ...   \n",
       "201170  Ethan Walmark, 6, was diagnosed with autism fo...   \n",
       "140458  Listen to me closely, mister. From this point ...   \n",
       "\n",
       "                                                  authors       date  \\\n",
       "154193                                                    2013-09-11   \n",
       "201170                                    Jessica Samakow 2012-04-27   \n",
       "140458  Wendi Aarons, Contributor\\nHumor writer, blogg... 2014-02-03   \n",
       "\n",
       "        Category_num                                   preprocessed_txt  \n",
       "154193             0  year ago today 11:45 pm wife give birth son Ba...  \n",
       "201170             0  Ethan Walmark 6 diagnose autism year ago feel ...  \n",
       "140458             0  listen closely mister point long argue want ac...  "
      ]
     },
     "execution_count": 26,
     "metadata": {},
     "output_type": "execute_result"
    }
   ],
   "source": [
    "df_balanced['preprocessed_txt'] = df_balanced['short_description'].apply(Preprocess)\n",
    "df_balanced.head(3)"
   ]
  },
  {
   "cell_type": "code",
   "execution_count": 27,
   "id": "1aef9bd4-0b70-4c0b-be82-b6c91a7ca737",
   "metadata": {
    "tags": []
   },
   "outputs": [
    {
     "name": "stdout",
     "output_type": "stream",
     "text": [
      "(35164,)\n"
     ]
    },
    {
     "data": {
      "text/plain": [
       "128846                                                     \n",
       "148225    big declaration gratitude Thanksgiving dinner ...\n",
       "198654    lightly lined seamless bandeau structured band...\n",
       "43637     delay Senate proceed confirmation process fast...\n",
       "162076    past Memorial Day weekend family swear tv fami...\n",
       "Name: preprocessed_txt, dtype: object"
      ]
     },
     "execution_count": 27,
     "metadata": {},
     "output_type": "execute_result"
    }
   ],
   "source": [
    "X_train, X_test, y_train, y_test = train_test_split(\n",
    "    df_balanced.preprocessed_txt, \n",
    "    df_balanced.Category_num, \n",
    "    test_size=0.2, # 20% samples will go to test dataset\n",
    "    random_state=2022,\n",
    "    stratify=df_balanced.Category_num\n",
    ")\n",
    "print(X_train.shape)\n",
    "X_train.head()"
   ]
  },
  {
   "cell_type": "code",
   "execution_count": 28,
   "id": "4826715d-6347-443b-b8ac-f41e0a0e8a72",
   "metadata": {
    "tags": []
   },
   "outputs": [
    {
     "data": {
      "text/plain": [
       "2    7033\n",
       "0    7033\n",
       "3    7033\n",
       "1    7033\n",
       "4    7032\n",
       "Name: Category_num, dtype: int64"
      ]
     },
     "execution_count": 28,
     "metadata": {},
     "output_type": "execute_result"
    }
   ],
   "source": [
    "y_train.value_counts()"
   ]
  },
  {
   "cell_type": "code",
   "execution_count": 29,
   "id": "61ef2f24-3f17-4d64-8854-02b858fbbae8",
   "metadata": {
    "tags": []
   },
   "outputs": [
    {
     "data": {
      "text/plain": [
       "4    1759\n",
       "1    1758\n",
       "2    1758\n",
       "3    1758\n",
       "0    1758\n",
       "Name: Category_num, dtype: int64"
      ]
     },
     "execution_count": 29,
     "metadata": {},
     "output_type": "execute_result"
    }
   ],
   "source": [
    "y_test.value_counts()"
   ]
  },
  {
   "cell_type": "code",
   "execution_count": 30,
   "id": "62458af8-28aa-4a51-9650-c9ec9e7f3917",
   "metadata": {
    "tags": []
   },
   "outputs": [
    {
     "name": "stdout",
     "output_type": "stream",
     "text": [
      "              precision    recall  f1-score   support\n",
      "\n",
      "           0       0.50      0.80      0.62      1758\n",
      "           1       0.78      0.77      0.78      1758\n",
      "           2       0.89      0.37      0.52      1758\n",
      "           3       0.67      0.82      0.74      1758\n",
      "           4       0.87      0.67      0.76      1759\n",
      "\n",
      "    accuracy                           0.69      8791\n",
      "   macro avg       0.74      0.69      0.68      8791\n",
      "weighted avg       0.74      0.69      0.68      8791\n",
      "\n"
     ]
    }
   ],
   "source": [
    "#1. create a pipeline object\n",
    "clf = Pipeline([\n",
    "    ('vectorizer_bow', CountVectorizer(ngram_range = (1, 2))),        #using the ngram_range parameter \n",
    "    ('Multi NB', MultinomialNB())\n",
    "])\n",
    "\n",
    "#2. fit with X_train and y_train\n",
    "clf.fit(X_train, y_train)\n",
    "\n",
    "\n",
    "#3. get the predictions for X_test and store it in y_pred\n",
    "y_pred = clf.predict(X_test)\n",
    "\n",
    "\n",
    "#4. print the classfication report\n",
    "print(classification_report(y_test, y_pred))"
   ]
  },
  {
   "cell_type": "code",
   "execution_count": 31,
   "id": "6ec8f5b6-97c5-4e88-9db8-4256cca1917e",
   "metadata": {
    "tags": []
   },
   "outputs": [
    {
     "data": {
      "text/plain": [
       "array([[1406,   86,   16,  230,   20],\n",
       "       [ 226, 1362,   16,  134,   20],\n",
       "       [ 649,  158,  647,  184,  120],\n",
       "       [ 226,   61,   11, 1442,   18],\n",
       "       [ 302,   89,   39,  150, 1179]], dtype=int64)"
      ]
     },
     "execution_count": 31,
     "metadata": {},
     "output_type": "execute_result"
    }
   ],
   "source": [
    "from sklearn.metrics import confusion_matrix\n",
    "cm = confusion_matrix(y_test, y_pred)\n",
    "cm"
   ]
  },
  {
   "cell_type": "code",
   "execution_count": 32,
   "id": "29b519df-cd1f-40a8-baff-dd7ea66ebf2f",
   "metadata": {
    "tags": []
   },
   "outputs": [
    {
     "data": {
      "text/plain": [
       "Text(95.72222222222221, 0.5, 'Truth')"
      ]
     },
     "execution_count": 32,
     "metadata": {},
     "output_type": "execute_result"
    },
    {
     "data": {
      "image/png": "[encoded data removed]",
      "text/plain": [
       "<Figure size 1000x700 with 2 Axes>"
      ]
     },
     "metadata": {},
     "output_type": "display_data"
    }
   ],
   "source": [
    "from matplotlib import pyplot as plt\n",
    "import seaborn as sn\n",
    "plt.figure(figsize = (10,7))\n",
    "sn.heatmap(cm, annot=True, fmt='d')\n",
    "plt.xlabel('Prediction')\n",
    "plt.ylabel('Truth')"
   ]
  },
  {
   "cell_type": "code",
   "execution_count": null,
   "id": "b173b026-22b5-43cc-98d6-8bdbe122c249",
   "metadata": {},
   "outputs": [],
   "source": []
  }
 ],
 "metadata": {
  "kernelspec": {
   "display_name": "Python 3 (ipykernel)",
   "language": "python",
   "name": "python3"
  },
  "language_info": {
   "codemirror_mode": {
    "name": "ipython",
    "version": 3
   },
   "file_extension": ".py",
   "mimetype": "text/x-python",
   "name": "python",
   "nbconvert_exporter": "python",
   "pygments_lexer": "ipython3",
   "version": "3.11.4"
  }
 },
 "nbformat": 4,
 "nbformat_minor": 5
}
