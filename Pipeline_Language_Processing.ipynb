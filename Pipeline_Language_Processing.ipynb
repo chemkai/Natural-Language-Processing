{
 "cells": [
  {
   "cell_type": "code",
   "execution_count": 4,
   "id": "8ca936f3-594b-480b-a492-321244091299",
   "metadata": {
    "tags": []
   },
   "outputs": [],
   "source": [
    "import spacy\n",
    "nlp = spacy.blank(\"en\")"
   ]
  },
  {
   "cell_type": "code",
   "execution_count": 5,
   "id": "0561e823-925b-445a-bfa7-0044caff46f7",
   "metadata": {
    "tags": []
   },
   "outputs": [
    {
     "data": {
      "text/plain": [
       "[Chem,\n",
       " ate,\n",
       " 100,\n",
       " 200,\n",
       " $,\n",
       " of,\n",
       " samosas,\n",
       " .,\n",
       " He,\n",
       " could,\n",
       " have,\n",
       " eaten,\n",
       " 10,\n",
       " more,\n",
       " samosas]"
      ]
     },
     "execution_count": 5,
     "metadata": {},
     "output_type": "execute_result"
    }
   ],
   "source": [
    "doc = nlp(\"Chem ate 100 200$ of samosas. He could have eaten 10 more samosas\")\n",
    "[token for token in doc]"
   ]
  },
  {
   "cell_type": "code",
   "execution_count": 6,
   "id": "70d22ee7-1ca9-4218-977a-1cda606142a5",
   "metadata": {
    "tags": []
   },
   "outputs": [
    {
     "data": {
      "text/plain": [
       "[]"
      ]
     },
     "execution_count": 6,
     "metadata": {},
     "output_type": "execute_result"
    }
   ],
   "source": [
    "nlp.pipeline"
   ]
  },
  {
   "cell_type": "code",
   "execution_count": 7,
   "id": "26314909-c439-438f-a8fd-8575010ba5bc",
   "metadata": {
    "tags": []
   },
   "outputs": [],
   "source": [
    "# nlp.pipe_names is empty array indicating no components in the pipeline. Pipeline is something that starts with a tokenizer"
   ]
  },
  {
   "cell_type": "raw",
   "id": "2d67012d-4304-44e5-a8e7-df1386173667",
   "metadata": {},
   "source": [
    "To download trained pipeline use a command such as,\n",
    "\n",
    "python -m spacy download en_core_web_sm"
   ]
  },
  {
   "cell_type": "code",
   "execution_count": 10,
   "id": "b5f4680a-d7e9-40a0-95ca-660917a464e9",
   "metadata": {
    "tags": []
   },
   "outputs": [
    {
     "data": {
      "text/plain": [
       "['tok2vec', 'tagger', 'parser', 'attribute_ruler', 'lemmatizer', 'ner']"
      ]
     },
     "execution_count": 10,
     "metadata": {},
     "output_type": "execute_result"
    }
   ],
   "source": [
    "nlp = spacy.load(\"en_core_web_sm\")\n",
    "nlp.pipe_names"
   ]
  },
  {
   "cell_type": "code",
   "execution_count": 14,
   "id": "daa1fa6d-0e36-4a98-b41f-e19ce02a10e4",
   "metadata": {
    "tags": []
   },
   "outputs": [
    {
     "name": "stdout",
     "output_type": "stream",
     "text": [
      "Chem | None | \n",
      "ate | None | \n",
      "100 | None | \n",
      "200 | None | \n",
      "$ | None | \n",
      "of | None | \n",
      "samosas | None | \n",
      ". | None | \n",
      "He | None | \n",
      "could | None | \n",
      "have | None | \n",
      "eaten | None | \n",
      "10 | None | \n",
      "more | None | \n",
      "samosas | None | \n"
     ]
    }
   ],
   "source": [
    "for token in doc:\n",
    "    print(token,\"|\",spacy.explain(token.pos_),\"|\",token.lemma_)"
   ]
  },
  {
   "cell_type": "raw",
   "id": "8e116315-28c9-47cf-ba7d-8b2808e795ec",
   "metadata": {},
   "source": [
    "Adding a component to the blank pipeline"
   ]
  },
  {
   "cell_type": "code",
   "execution_count": 19,
   "id": "d031bd15-83c8-4d56-a6fd-80685236835e",
   "metadata": {
    "tags": []
   },
   "outputs": [
    {
     "data": {
      "text/plain": [
       "[('ner', <spacy.pipeline.ner.EntityRecognizer at 0x23451811230>)]"
      ]
     },
     "execution_count": 19,
     "metadata": {},
     "output_type": "execute_result"
    }
   ],
   "source": [
    "source_nlp = spacy.load(\"en_core_web_sm\")\n",
    "\n",
    "nlp = spacy.blank(\"en\")\n",
    "nlp.add_pipe(\"ner\",source=source_nlp)\n",
    "nlp.pipeline"
   ]
  },
  {
   "cell_type": "code",
   "execution_count": 20,
   "id": "88e955d0-ee2f-4f1f-bd41-6860754258e6",
   "metadata": {
    "tags": []
   },
   "outputs": [
    {
     "name": "stdout",
     "output_type": "stream",
     "text": [
      "Tesla Inc ORG\n",
      "$45 billion MONEY\n"
     ]
    }
   ],
   "source": [
    "doc = nlp(\"Tesla Inc is going to acquire twitter for $45 billion\")\n",
    "for ent in doc.ents:\n",
    "    print(ent.text, ent.label_)"
   ]
  }
 ],
 "metadata": {
  "kernelspec": {
   "display_name": "Python 3 (ipykernel)",
   "language": "python",
   "name": "python3"
  },
  "language_info": {
   "codemirror_mode": {
    "name": "ipython",
    "version": 3
   },
   "file_extension": ".py",
   "mimetype": "text/x-python",
   "name": "python",
   "nbconvert_exporter": "python",
   "pygments_lexer": "ipython3",
   "version": "3.11.4"
  }
 },
 "nbformat": 4,
 "nbformat_minor": 5
}
