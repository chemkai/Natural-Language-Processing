{
 "cells": [
  {
   "cell_type": "code",
   "execution_count": 1,
   "id": "50099919-3a2e-4e0a-b35b-584693de319a",
   "metadata": {
    "tags": []
   },
   "outputs": [],
   "source": [
    "import spacy"
   ]
  },
  {
   "cell_type": "code",
   "execution_count": 10,
   "id": "65a3e85d-c72b-47a9-aba8-e84fd306bc50",
   "metadata": {
    "tags": []
   },
   "outputs": [
    {
     "data": {
      "text/plain": [
       "['tok2vec', 'tagger', 'parser', 'attribute_ruler', 'lemmatizer', 'ner']"
      ]
     },
     "execution_count": 10,
     "metadata": {},
     "output_type": "execute_result"
    }
   ],
   "source": [
    "nlp = spacy.load(\"en_core_web_sm\")\n",
    "\n",
    "nlp.pipe_names # Checking the pipelines included in the model loaded"
   ]
  },
  {
   "cell_type": "code",
   "execution_count": 16,
   "id": "9269d58d-9bb6-42cc-aa6d-0868c0f632cf",
   "metadata": {
    "tags": []
   },
   "outputs": [
    {
     "name": "stdout",
     "output_type": "stream",
     "text": [
      "Chem Kai | PERSON | People, including fictional\n",
      "Twitter | PRODUCT | Objects, vehicles, foods, etc. (not services)\n",
      "$40 billion | MONEY | Monetary values, including unit\n"
     ]
    }
   ],
   "source": [
    "doc = nlp(\"Chem Kai wants to acquire Twitter and tesla for $40 billion.\")\n",
    "\n",
    "for token in doc.ents:\n",
    "    print(token,\"|\",token.label_,\"|\",spacy.explain(token.label_))"
   ]
  },
  {
   "cell_type": "code",
   "execution_count": 17,
   "id": "2a5baa65-0733-496f-b7bc-512df3c4f883",
   "metadata": {
    "tags": []
   },
   "outputs": [
    {
     "data": {
      "text/html": [
       "<span class=\"tex2jax_ignore\"><div class=\"entities\" style=\"line-height: 2.5; direction: ltr\">\n",
       "<mark class=\"entity\" style=\"background: #aa9cfc; padding: 0.45em 0.6em; margin: 0 0.25em; line-height: 1; border-radius: 0.35em;\">\n",
       "    Chem Kai\n",
       "    <span style=\"font-size: 0.8em; font-weight: bold; line-height: 1; border-radius: 0.35em; vertical-align: middle; margin-left: 0.5rem\">PERSON</span>\n",
       "</mark>\n",
       " wants to acquire \n",
       "<mark class=\"entity\" style=\"background: #bfeeb7; padding: 0.45em 0.6em; margin: 0 0.25em; line-height: 1; border-radius: 0.35em;\">\n",
       "    Twitter\n",
       "    <span style=\"font-size: 0.8em; font-weight: bold; line-height: 1; border-radius: 0.35em; vertical-align: middle; margin-left: 0.5rem\">PRODUCT</span>\n",
       "</mark>\n",
       " and tesla for \n",
       "<mark class=\"entity\" style=\"background: #e4e7d2; padding: 0.45em 0.6em; margin: 0 0.25em; line-height: 1; border-radius: 0.35em;\">\n",
       "    $40 billion\n",
       "    <span style=\"font-size: 0.8em; font-weight: bold; line-height: 1; border-radius: 0.35em; vertical-align: middle; margin-left: 0.5rem\">MONEY</span>\n",
       "</mark>\n",
       ".</div></span>"
      ],
      "text/plain": [
       "<IPython.core.display.HTML object>"
      ]
     },
     "metadata": {},
     "output_type": "display_data"
    }
   ],
   "source": [
    "from spacy import displacy\n",
    "\n",
    "displacy.render(doc,style=\"ent\")"
   ]
  },
  {
   "cell_type": "code",
   "execution_count": 18,
   "id": "e5d3b5c5-41c5-4d2e-abac-42b057bc0d7b",
   "metadata": {
    "tags": []
   },
   "outputs": [
    {
     "data": {
      "text/plain": [
       "['CARDINAL',\n",
       " 'DATE',\n",
       " 'EVENT',\n",
       " 'FAC',\n",
       " 'GPE',\n",
       " 'LANGUAGE',\n",
       " 'LAW',\n",
       " 'LOC',\n",
       " 'MONEY',\n",
       " 'NORP',\n",
       " 'ORDINAL',\n",
       " 'ORG',\n",
       " 'PERCENT',\n",
       " 'PERSON',\n",
       " 'PRODUCT',\n",
       " 'QUANTITY',\n",
       " 'TIME',\n",
       " 'WORK_OF_ART']"
      ]
     },
     "execution_count": 18,
     "metadata": {},
     "output_type": "execute_result"
    }
   ],
   "source": [
    "# List down all the entities\n",
    "nlp.pipe_labels['ner']"
   ]
  },
  {
   "cell_type": "code",
   "execution_count": 33,
   "id": "1bf26d34-ac44-49fc-90bf-d643599ac3ec",
   "metadata": {
    "tags": []
   },
   "outputs": [
    {
     "name": "stdout",
     "output_type": "stream",
     "text": [
      "Chem Kai | PERSON | People, including fictional\n",
      "Twitter | PRODUCT | Objects, vehicles, foods, etc. (not services)\n",
      "$40 billion dollars | MONEY | Monetary values, including unit\n"
     ]
    }
   ],
   "source": [
    "# Setting custom entities\n",
    "doc = nlp(\"Chem Kai wants to acquire Twitter and tesla for $40 billion dollars.\")\n",
    "for token in doc.ents:\n",
    "    print(token,\"|\",token.label_,\"|\",spacy.explain(token.label_))"
   ]
  },
  {
   "cell_type": "code",
   "execution_count": 34,
   "id": "4680c161-6ab9-406e-83c6-2ae1c2d0f4be",
   "metadata": {
    "tags": []
   },
   "outputs": [
    {
     "data": {
      "text/plain": [
       "tesla"
      ]
     },
     "execution_count": 34,
     "metadata": {},
     "output_type": "execute_result"
    }
   ],
   "source": [
    "s = doc[7:8]\n",
    "s"
   ]
  },
  {
   "cell_type": "code",
   "execution_count": 35,
   "id": "abe2b798-295b-43e2-8b13-480bd9688adf",
   "metadata": {
    "tags": []
   },
   "outputs": [
    {
     "data": {
      "text/plain": [
       "spacy.tokens.span.Span"
      ]
     },
     "execution_count": 35,
     "metadata": {},
     "output_type": "execute_result"
    }
   ],
   "source": [
    "type(s)"
   ]
  },
  {
   "cell_type": "code",
   "execution_count": 59,
   "id": "c0823ac5-3602-47fe-a1a4-0907ba2ded65",
   "metadata": {
    "tags": []
   },
   "outputs": [],
   "source": [
    "doc = nlp(\"Chem Kai wants to acquire Twitter and tesla for $40 billion dollars.\")"
   ]
  },
  {
   "cell_type": "code",
   "execution_count": 60,
   "id": "36915daa-eced-4763-9a07-c3e190be328c",
   "metadata": {
    "tags": []
   },
   "outputs": [],
   "source": [
    "from spacy.tokens import Span\n",
    "\n",
    "s2 = Span(doc, 7,8, label=\"ORG\")\n",
    "\n",
    "doc.set_ents([s2,s1],default=\"unmodified\")"
   ]
  },
  {
   "cell_type": "code",
   "execution_count": 61,
   "id": "db1c00d1-0872-4e4d-a275-e510485d522a",
   "metadata": {
    "tags": []
   },
   "outputs": [
    {
     "name": "stdout",
     "output_type": "stream",
     "text": [
      "Chem Kai | PERSON | People, including fictional\n",
      "Twitter | ORG | Companies, agencies, institutions, etc.\n",
      "tesla | ORG | Companies, agencies, institutions, etc.\n",
      "$40 billion dollars | MONEY | Monetary values, including unit\n"
     ]
    }
   ],
   "source": [
    "for token in doc.ents:\n",
    "    print(token,\"|\",token.label_,\"|\",spacy.explain(token.label_))"
   ]
  },
  {
   "cell_type": "code",
   "execution_count": 26,
   "id": "560c1f8a-cf0e-4c80-ae26-1533e598c088",
   "metadata": {
    "tags": []
   },
   "outputs": [
    {
     "name": "stdout",
     "output_type": "stream",
     "text": [
      "India | GPE | Countries, cities, states\n",
      "Delhi | GPE | Countries, cities, states\n",
      "Gujarat | GPE | Countries, cities, states\n",
      "Tamilnadu | GPE | Countries, cities, states\n",
      "Pongal | GPE | Countries, cities, states\n",
      "Andhrapradesh | GPE | Countries, cities, states\n",
      "Assam | GPE | Countries, cities, states\n",
      "Bihar | GPE | Countries, cities, states\n"
     ]
    }
   ],
   "source": [
    "# Extracting all the geographical \n",
    "\n",
    "text = \"\"\"Kiran want to know the famous foods in each state of India. So, he opened Google and search for this question. Google showed that\n",
    "in Delhi it is Chaat, in Gujarat it is Dal Dhokli, in Tamilnadu it is Pongal, in Andhrapradesh it is Biryani, in Assam it is Papaya Khar,\n",
    "in Bihar it is Litti Chowkha and so on for all other states\"\"\"\n",
    "\n",
    "doc1 = nlp(text)\n",
    "\n",
    "for token in doc1.ents:\n",
    "    if token.label_ =='GPE':\n",
    "        print(token,\"|\",token.label_,\"|\",spacy.explain(token.label_))"
   ]
  },
  {
   "cell_type": "code",
   "execution_count": 62,
   "id": "a62264ed-122a-415d-bb7b-6440ad8a9aaa",
   "metadata": {
    "tags": []
   },
   "outputs": [
    {
     "name": "stdout",
     "output_type": "stream",
     "text": [
      "24 April 1973 | DATE | Absolute or relative dates or periods\n",
      "5 November 1988 | DATE | Absolute or relative dates or periods\n",
      "7 July 1981 | DATE | Absolute or relative dates or periods\n",
      "19 December 1974 | DATE | Absolute or relative dates or periods\n"
     ]
    }
   ],
   "source": [
    "# Extracting all the dates\n",
    "text = \"\"\"Sachin Tendulkar was born on 24 April 1973, Virat Kholi was born on 5 November 1988, Dhoni was born on 7 July 1981\n",
    "and finally Ricky ponting was born on 19 December 1974.\"\"\"\n",
    "\n",
    "doc = nlp(text)\n",
    "\n",
    "for token in doc.ents:\n",
    "    if token.label_ == \"DATE\":\n",
    "        print(token,\"|\",token.label_,\"|\",spacy.explain(token.label_))"
   ]
  }
 ],
 "metadata": {
  "kernelspec": {
   "display_name": "Python 3 (ipykernel)",
   "language": "python",
   "name": "python3"
  },
  "language_info": {
   "codemirror_mode": {
    "name": "ipython",
    "version": 3
   },
   "file_extension": ".py",
   "mimetype": "text/x-python",
   "name": "python",
   "nbconvert_exporter": "python",
   "pygments_lexer": "ipython3",
   "version": "3.11.4"
  }
 },
 "nbformat": 4,
 "nbformat_minor": 5
}
