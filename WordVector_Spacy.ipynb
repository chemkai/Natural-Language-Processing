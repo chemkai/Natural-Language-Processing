{
 "cells": [
  {
   "cell_type": "code",
   "execution_count": 1,
   "id": "337d8437-c9e2-45c2-b0ef-679f7947eef7",
   "metadata": {
    "tags": []
   },
   "outputs": [],
   "source": [
    "import spacy\n",
    "\n",
    "# word vectors occupy lot of space. hence en_core_web_sm model do not have them included. \n",
    "# In order to download\n",
    "# word vectors you need to install large or medium english model. We will install the large one!\n",
    "# make sure you have run \"python -m spacy download en_core_web_lg\" to install large english model\n",
    "\n",
    "nlp = spacy.load(\"en_core_web_lg\")"
   ]
  },
  {
   "cell_type": "code",
   "execution_count": 7,
   "id": "dafaeb6b-1f2e-4e69-85d7-850bfcf062a7",
   "metadata": {
    "tags": []
   },
   "outputs": [
    {
     "name": "stdout",
     "output_type": "stream",
     "text": [
      "Kaimoh ==>token has vector: False token is OOV: True\n",
      "is ==>token has vector: True token is OOV: False\n",
      "a ==>token has vector: True token is OOV: False\n",
      "reputed ==>token has vector: True token is OOV: False\n",
      "coder ==>token has vector: True token is OOV: False\n",
      ". ==>token has vector: True token is OOV: False\n",
      "He ==>token has vector: True token is OOV: False\n",
      "loves ==>token has vector: True token is OOV: False\n",
      "to ==>token has vector: True token is OOV: False\n",
      "get ==>token has vector: True token is OOV: False\n",
      "involved ==>token has vector: True token is OOV: False\n",
      "in ==>token has vector: True token is OOV: False\n",
      "various ==>token has vector: True token is OOV: False\n",
      "projects ==>token has vector: True token is OOV: False\n",
      ". ==>token has vector: True token is OOV: False\n"
     ]
    }
   ],
   "source": [
    "doc = nlp(\"Kaimoh is a reputed coder. He loves to get involved in various projects.\")\n",
    "\n",
    "for token in doc:\n",
    "    print(token,\"==>token has vector:\",token.has_vector,\"token is OOV:\",token.is_oov)"
   ]
  },
  {
   "cell_type": "code",
   "execution_count": 10,
   "id": "dd4acceb-8311-49a3-bacd-82c313eaac76",
   "metadata": {
    "tags": []
   },
   "outputs": [
    {
     "data": {
      "text/plain": [
       "(300,)"
      ]
     },
     "execution_count": 10,
     "metadata": {},
     "output_type": "execute_result"
    }
   ],
   "source": [
    "doc.vector.shape"
   ]
  },
  {
   "cell_type": "code",
   "execution_count": 15,
   "id": "badea8a3-494e-46dc-b9e1-d78eb8c7d8ac",
   "metadata": {
    "tags": []
   },
   "outputs": [
    {
     "data": {
      "text/plain": [
       "(300,)"
      ]
     },
     "execution_count": 15,
     "metadata": {},
     "output_type": "execute_result"
    }
   ],
   "source": [
    "base_token = nlp(\"ML Engineer\")\n",
    "base_token.vector.shape"
   ]
  },
  {
   "cell_type": "code",
   "execution_count": 16,
   "id": "dfc12cdc-212c-4390-88db-59159e7fbf85",
   "metadata": {
    "tags": []
   },
   "outputs": [
    {
     "name": "stdout",
     "output_type": "stream",
     "text": [
      "Kaimoh <<->> ML Engineer : 0.0\n",
      "is <<->> ML Engineer : 0.028611600263854304\n",
      "a <<->> ML Engineer : 0.05736575451574152\n",
      "reputed <<->> ML Engineer : 0.10981670062885293\n",
      "coder <<->> ML Engineer : 0.45427276164487135\n",
      ". <<->> ML Engineer : -0.07193669619042672\n",
      "He <<->> ML Engineer : -0.04656738662194743\n",
      "loves <<->> ML Engineer : -0.11698005378809752\n",
      "to <<->> ML Engineer : 0.05253011930331826\n",
      "get <<->> ML Engineer : -0.08503819935057168\n",
      "involved <<->> ML Engineer : 0.15082729824886223\n",
      "in <<->> ML Engineer : -0.013851726039063083\n",
      "various <<->> ML Engineer : 0.18891943343122655\n",
      "projects <<->> ML Engineer : 0.3237844987348033\n",
      ". <<->> ML Engineer : -0.07193669619042672\n"
     ]
    },
    {
     "name": "stderr",
     "output_type": "stream",
     "text": [
      "C:\\Users\\kaimo\\AppData\\Local\\Temp\\ipykernel_24796\\169744859.py:3: UserWarning: [W008] Evaluating Token.similarity based on empty vectors.\n",
      "  print(token,\"<<->>\",base_token,\":\",token.similarity(base_token))\n"
     ]
    }
   ],
   "source": [
    "# Similarity between tokens\n",
    "for token in doc:\n",
    "    print(token,\"<<->>\",base_token,\":\",token.similarity(base_token))"
   ]
  },
  {
   "cell_type": "code",
   "execution_count": 17,
   "id": "47e2e747-991f-4911-a930-466aed5b2c9f",
   "metadata": {
    "tags": []
   },
   "outputs": [],
   "source": [
    "# Function to compare words\n",
    "def print_similarity(base_words,words_to_compare):\n",
    "    base_token = nlp(base_words)\n",
    "    words_token = nlp(words_to_compare)\n",
    "    for token in doc:\n",
    "        print(f\"{token.text} <-> {base_token.text}: \", token.similarity(base_token))"
   ]
  },
  {
   "cell_type": "code",
   "execution_count": 18,
   "id": "855128f7-20a2-4934-9a42-9ce04e8395ec",
   "metadata": {
    "tags": []
   },
   "outputs": [],
   "source": [
    "king = nlp.vocab[\"king\"].vector\n",
    "man = nlp.vocab[\"man\"].vector\n",
    "woman = nlp.vocab[\"woman\"].vector\n",
    "queen = nlp.vocab[\"queen\"].vector\n",
    "\n",
    "result = king - man + woman"
   ]
  },
  {
   "cell_type": "code",
   "execution_count": 19,
   "id": "98313bc1-b32b-4951-a899-9f86cf360558",
   "metadata": {
    "tags": []
   },
   "outputs": [],
   "source": [
    "king = nlp.vocab[\"king\"].vector\n",
    "man = nlp.vocab[\"man\"].vector\n",
    "woman = nlp.vocab[\"woman\"].vector\n",
    "queen = nlp.vocab[\"queen\"].vector\n",
    "\n",
    "result = king - man + woman"
   ]
  }
 ],
 "metadata": {
  "kernelspec": {
   "display_name": "Python 3 (ipykernel)",
   "language": "python",
   "name": "python3"
  },
  "language_info": {
   "codemirror_mode": {
    "name": "ipython",
    "version": 3
   },
   "file_extension": ".py",
   "mimetype": "text/x-python",
   "name": "python",
   "nbconvert_exporter": "python",
   "pygments_lexer": "ipython3",
   "version": "3.11.4"
  }
 },
 "nbformat": 4,
 "nbformat_minor": 5
}
