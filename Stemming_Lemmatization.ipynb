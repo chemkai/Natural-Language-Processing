{
 "cells": [
  {
   "cell_type": "raw",
   "id": "9af5d10f-dfe0-4c61-b170-b184f0442f09",
   "metadata": {
    "tags": []
   },
   "source": [
    "Stemming in NLTK"
   ]
  },
  {
   "cell_type": "code",
   "execution_count": 6,
   "id": "33559f6c-4f29-41a8-9236-6b607ff70877",
   "metadata": {
    "tags": []
   },
   "outputs": [],
   "source": [
    "from nltk.stem import PorterStemmer\n",
    "stemmer = PorterStemmer()"
   ]
  },
  {
   "cell_type": "code",
   "execution_count": 5,
   "id": "71727374-4b7f-4999-ad65-210d43877207",
   "metadata": {
    "tags": []
   },
   "outputs": [
    {
     "name": "stdout",
     "output_type": "stream",
     "text": [
      "eating | eat\n",
      "eats | eat\n",
      "eat | eat\n",
      "ate | ate\n",
      "adjustable | adjust\n",
      "rafting | raft\n",
      "ability | abil\n",
      "meeting | meet\n"
     ]
    }
   ],
   "source": [
    "words = [\"eating\", \"eats\", \"eat\", \"ate\", \"adjustable\", \"rafting\", \"ability\", \"meeting\"]\n",
    "\n",
    "for word in words:\n",
    "    print(word,\"|\",stemmer.stem(word))"
   ]
  },
  {
   "cell_type": "raw",
   "id": "8d7e972e-ffab-4e8d-a8ba-3b3e23a8c50b",
   "metadata": {},
   "source": [
    "Lemmatization in Spacy"
   ]
  },
  {
   "cell_type": "code",
   "execution_count": 8,
   "id": "73568390-072e-404e-bea6-1057c070b946",
   "metadata": {
    "tags": []
   },
   "outputs": [
    {
     "name": "stdout",
     "output_type": "stream",
     "text": [
      "Chem | Chem\n",
      "wants | want\n",
      "to | to\n",
      "eat | eat\n",
      "noodle | noodle\n",
      ". | .\n",
      "He | he\n",
      "wants | want\n",
      "to | to\n",
      "to | to\n",
      "have | have\n",
      "some | some\n",
      "meat | meat\n",
      ", | ,\n",
      "thinly | thinly\n",
      "sliced | slice\n",
      "and | and\n",
      "egg | egg\n",
      "omelette | omelette\n",
      "on | on\n",
      "top | top\n",
      "of | of\n",
      "it | it\n",
      ". | .\n"
     ]
    }
   ],
   "source": [
    "import spacy\n",
    "nlp = spacy.load(\"en_core_web_sm\")\n",
    "\n",
    "doc = nlp(\"Chem wants to eat noodle. He wants to to have some meat, thinly sliced and egg omelette on top of it.\")\n",
    "for token in doc:\n",
    "    print(token,\"|\",token.lemma_)"
   ]
  },
  {
   "cell_type": "raw",
   "id": "26565f49-5694-47a3-9304-aa9431a6fc6f",
   "metadata": {},
   "source": [
    "Customizing lemmatizer"
   ]
  },
  {
   "cell_type": "code",
   "execution_count": 9,
   "id": "b27bc8dc-d87b-4cec-9777-bce904fce66e",
   "metadata": {
    "tags": []
   },
   "outputs": [
    {
     "data": {
      "text/plain": [
       "['tok2vec', 'tagger', 'parser', 'attribute_ruler', 'lemmatizer', 'ner']"
      ]
     },
     "execution_count": 9,
     "metadata": {},
     "output_type": "execute_result"
    }
   ],
   "source": [
    "nlp.pipe_names"
   ]
  },
  {
   "cell_type": "code",
   "execution_count": 11,
   "id": "38c1b0ab-d7c9-4db5-aa01-f14b2c784cc5",
   "metadata": {
    "tags": []
   },
   "outputs": [
    {
     "name": "stdout",
     "output_type": "stream",
     "text": [
      "Bro | Brother\n",
      ", | ,\n",
      "you | you\n",
      "wanna | wanna\n",
      "go | go\n",
      "? | ?\n",
      "Brah | Brother\n",
      ", | ,\n",
      "do | do\n",
      "n't | not\n",
      "say | say\n",
      "no | no\n",
      "! | !\n",
      "I | I\n",
      "am | be\n",
      "exhausted | exhaust\n"
     ]
    }
   ],
   "source": [
    "ar = nlp.get_pipe('attribute_ruler')\n",
    "\n",
    "ar.add([[{\"TEXT\":\"Bro\"}],[{\"TEXT\":\"Brah\"}]],{\"LEMMA\":\"Brother\"})\n",
    "\n",
    "doc = nlp(\"Bro, you wanna go? Brah, don't say no! I am exhausted\")\n",
    "for token in doc:\n",
    "    print(token.text, \"|\", token.lemma_)"
   ]
  },
  {
   "cell_type": "code",
   "execution_count": 33,
   "id": "00fc2c4e-67d8-47aa-abc2-a9f53a47e944",
   "metadata": {
    "tags": []
   },
   "outputs": [],
   "source": [
    "# Given list to be Stemmed and Lemmatized\n",
    "lst_words = ['running', 'painting', 'walking', 'dressing', 'likely', 'children', 'whom', 'good', 'ate', 'fishing']"
   ]
  },
  {
   "cell_type": "code",
   "execution_count": 34,
   "id": "fd0e4ae4-d279-4690-a58d-fee15ccd28cc",
   "metadata": {
    "tags": []
   },
   "outputs": [
    {
     "data": {
      "text/plain": [
       "['run',\n",
       " 'paint',\n",
       " 'walk',\n",
       " 'dress',\n",
       " 'like',\n",
       " 'children',\n",
       " 'whom',\n",
       " 'good',\n",
       " 'ate',\n",
       " 'fish']"
      ]
     },
     "execution_count": 34,
     "metadata": {},
     "output_type": "execute_result"
    }
   ],
   "source": [
    "[stemmer.stem(word) for word in lst_words]"
   ]
  },
  {
   "cell_type": "code",
   "execution_count": 35,
   "id": "3fb8229f-8b74-4c4b-9adc-ed8ae2dd4866",
   "metadata": {
    "tags": []
   },
   "outputs": [
    {
     "data": {
      "text/plain": [
       "'running painting walking dressing likely children whom good ate fishing'"
      ]
     },
     "execution_count": 35,
     "metadata": {},
     "output_type": "execute_result"
    }
   ],
   "source": [
    "# Converting list into sentence\n",
    "words = \" \".join(lst_words)\n",
    "words"
   ]
  },
  {
   "cell_type": "code",
   "execution_count": 36,
   "id": "c350e8ce-3f07-417d-8b9b-8642449a8d6b",
   "metadata": {
    "tags": []
   },
   "outputs": [
    {
     "name": "stdout",
     "output_type": "stream",
     "text": [
      "running | Lemmatize: run\n",
      "painting | Lemmatize: paint\n",
      "walking | Lemmatize: walk\n",
      "dressing | Lemmatize: dress\n",
      "likely | Lemmatize: likely\n",
      "children | Lemmatize: child\n",
      "whom | Lemmatize: whom\n",
      "good | Lemmatize: good\n",
      "ate | Lemmatize: eat\n",
      "fishing | Lemmatize: fishing\n"
     ]
    }
   ],
   "source": [
    "words = nlp(words)\n",
    "for word in words:\n",
    "    print(word,\"| Lemmatize:\",word.lemma_)"
   ]
  }
 ],
 "metadata": {
  "kernelspec": {
   "display_name": "Python 3 (ipykernel)",
   "language": "python",
   "name": "python3"
  },
  "language_info": {
   "codemirror_mode": {
    "name": "ipython",
    "version": 3
   },
   "file_extension": ".py",
   "mimetype": "text/x-python",
   "name": "python",
   "nbconvert_exporter": "python",
   "pygments_lexer": "ipython3",
   "version": "3.11.4"
  }
 },
 "nbformat": 4,
 "nbformat_minor": 5
}
